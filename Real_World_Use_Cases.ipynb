{
 "cells": [
  {
   "cell_type": "markdown",
   "id": "b0fea86a",
   "metadata": {},
   "source": [
    "# Managing a To-Do List with Python Lists\n",
    "The first example demonstrates managing a to-do list. We will create a list to keep track of all the tasks planned for the day. For instance, after opening an app, you might select tasks such as buying groceries, cleaning the house, and paying bills. As new tasks arise, they can be added to the list. Once a task is completed, it can be removed from the list. The following code illustrates these operations."
   ]
  },
  {
   "cell_type": "code",
   "execution_count": null,
   "id": "cc08275a",
   "metadata": {},
   "outputs": [],
   "source": [
    "to_do_list = [\"buy groceries\", \"clean the house\", \"pay bills\"]\n",
    "to_do_list.append(\"schedule meeting\")\n",
    "to_do_list.append(\"go for a run\")\n",
    "to_do_list.remove(\"clean the house\")\n",
    "if \"pay bills\" in to_do_list:\n",
    "    print(\"Hey, do not forget to pay the utility bills.\")\n",
    "print(\"To do list remaining:\")\n",
    "for task in to_do_list:\n",
    "    print(f\"- {task}\")"
   ]
  },
  {
   "cell_type": "markdown",
   "id": "c78df31e",
   "metadata": {},
   "source": [
    "# Organizing Student Grades Using Lists\n",
    "Another example involves organizing student grades. Suppose you have a list of grades and want to add new grades, calculate the average, and find the highest and lowest grades. The following code demonstrates these operations."
   ]
  },
  {
   "cell_type": "code",
   "execution_count": null,
   "id": "f9909985",
   "metadata": {},
   "outputs": [],
   "source": [
    "grades = [85, 92, 78, 90, 88]\n",
    "grades.append(95)\n",
    "average_grade = sum(grades) / len(grades)\n",
    "highest_grade = max(grades)\n",
    "lowest_grade = min(grades)\n",
    "print(f\"Average grade: {average_grade}\")\n",
    "print(f\"Highest grade: {highest_grade}\")\n",
    "print(f\"Lowest grade: {lowest_grade}\")"
   ]
  }
 ],
 "metadata": {
  "kernelspec": {
   "display_name": "Python 3",
   "language": "python",
   "name": "python3"
  },
  "language_info": {
   "name": "python",
   "version": "3.12.0"
  }
 },
 "nbformat": 4,
 "nbformat_minor": 5
}
