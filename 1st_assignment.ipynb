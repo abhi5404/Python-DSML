{
 "cells": [
  {
   "cell_type": "markdown",
   "metadata": {},
   "source": [
    "# Lesson 1.2: Python Basics\n",
    "## Topics Covered:\n",
    "- Syntax and Semantics\n",
    "- Variables and Data Types\n",
    "- Basic Operators (Arithmetic, Comparison, Logical)\n"
   ]
  },
  {
   "cell_type": "markdown",
   "metadata": {},
   "source": [
    "## 1. Syntax and Semantics\n",
    "\n",
    "**Question 1:** Write a Python program to print \"Hello, World!\"."
   ]
  },
  {
   "cell_type": "code",
   "execution_count": 1,
   "metadata": {},
   "outputs": [
    {
     "name": "stdout",
     "output_type": "stream",
     "text": [
      "Hello, World!\n"
     ]
    }
   ],
   "source": [
    "# Your code here\n",
    "\n",
    "print(\"Hello, World!\")"
   ]
  },
  {
   "cell_type": "markdown",
   "metadata": {},
   "source": [
    "**Question 2:** Write a Python program that takes a user input and prints it."
   ]
  },
  {
   "cell_type": "code",
   "execution_count": 2,
   "metadata": {},
   "outputs": [
    {
     "name": "stdout",
     "output_type": "stream",
     "text": [
      "You entered: 3\n"
     ]
    }
   ],
   "source": [
    "# Your code here\n",
    "\n",
    "a=int(input(\"Enter a number: \"))\n",
    "print(f\"You entered: {a}\")"
   ]
  },
  {
   "cell_type": "markdown",
   "metadata": {},
   "source": [
    "**Question 3:** Write a Python program to check if a number is positive, negative, or zero."
   ]
  },
  {
   "cell_type": "code",
   "execution_count": 5,
   "metadata": {},
   "outputs": [
    {
     "name": "stdout",
     "output_type": "stream",
     "text": [
      "Zero\n"
     ]
    }
   ],
   "source": [
    "# Your code here\n",
    "a = int(input(\"Enter a number: \"))\n",
    "if a > 0:\n",
    "    print(\"Positive\")\n",
    "elif a == 0:\n",
    "    print(\"Zero\")\n",
    "else:\n",
    "    print(\"Negative\")"
   ]
  },
  {
   "cell_type": "markdown",
   "metadata": {},
   "source": [
    "**Question 4:** Write a Python program to find the largest of three numbers."
   ]
  },
  {
   "cell_type": "code",
   "execution_count": 9,
   "metadata": {},
   "outputs": [
    {
     "name": "stdout",
     "output_type": "stream",
     "text": [
      "{6} is greater\n"
     ]
    }
   ],
   "source": [
    "# Your code here\n",
    "\n",
    "a=int(input(\"Enter 1st number: \"))\n",
    "b=int(input(\"Enter 2nd number: \"))\n",
    "c=int(input(\"Enter 3rd number: \"))\n",
    "if a > b and a > c:\n",
    "    print({a},\"is greater\")\n",
    "elif b>a and b>c:\n",
    "    print({b},\"is greater\")\n",
    "elif c>a and c>b:\n",
    "    print ({c},\"is greater\")    \n",
    "        "
   ]
  },
  {
   "cell_type": "markdown",
   "metadata": {},
   "source": [
    "**Question 5:** Write a Python program to calculate the factorial of a number."
   ]
  },
  {
   "cell_type": "code",
   "execution_count": 4,
   "metadata": {},
   "outputs": [
    {
     "name": "stdout",
     "output_type": "stream",
     "text": [
      "Factorial of 6 is 720\n"
     ]
    }
   ],
   "source": [
    "# Your code here\n",
    "\n",
    "a = int(input(\"Enter a number: \"))\n",
    "fact = 1\n",
    "for i in range(1, a+1):\n",
    "    fact = fact * i\n",
    "print(f\"Factorial of {a} is {fact}\")"
   ]
  },
  {
   "cell_type": "markdown",
   "metadata": {},
   "source": [
    "## 2. Variables and Data Types\n",
    "\n",
    "**Question 6:** Create variables of different data types: integer, float, string, and boolean. Print their values and types."
   ]
  },
  {
   "cell_type": "code",
   "execution_count": 2,
   "metadata": {},
   "outputs": [
    {
     "name": "stdout",
     "output_type": "stream",
     "text": [
      "5 and the type of this datatype is  <class 'int'>\n",
      "5.0 and the type of this datatype is  <class 'float'>\n",
      "abhijit and the type of this datatype is  <class 'str'>\n",
      "the type of this datatype is  <class 'bool'>\n"
     ]
    }
   ],
   "source": [
    "# Your code here\n",
    "\n",
    "a=5\n",
    "print(a,\"and the type of this datatype is \",type(a))\n",
    "a=5.0\n",
    "print(a,\"and the type of this datatype is \",type(a))\n",
    "a=\"abhijit\"\n",
    "print(a,\"and the type of this datatype is \",type(a))\n",
    "a=5 \n",
    "b=5\n",
    "print(\"the type of this datatype is \",type(a==b))"
   ]
  },
  {
   "cell_type": "markdown",
   "metadata": {},
   "source": [
    "**Question 7:** Write a Python program to swap the values of two variables."
   ]
  },
  {
   "cell_type": "code",
   "execution_count": 3,
   "metadata": {},
   "outputs": [
    {
     "name": "stdout",
     "output_type": "stream",
     "text": [
      "<class 'int'>\n"
     ]
    }
   ],
   "source": [
    "# Your code here\n",
    "a=\"5\"\n",
    "b=int(a)\n",
    "print(type(b))"
   ]
  },
  {
   "cell_type": "markdown",
   "metadata": {},
   "source": [
    "**Question 8:** Write a Python program to convert Celsius to Fahrenheit."
   ]
  },
  {
   "cell_type": "code",
   "execution_count": 4,
   "metadata": {},
   "outputs": [
    {
     "name": "stdout",
     "output_type": "stream",
     "text": [
      "The temp in Fahrenheit is: 98.6\n"
     ]
    }
   ],
   "source": [
    "# Your code here\n",
    "a=int(input(\"Enter the temp in Celcius: \"))\n",
    "b=(a*9/5)+32\n",
    "print(f\"The temp in Fahrenheit is: {b}\")"
   ]
  },
  {
   "cell_type": "markdown",
   "metadata": {},
   "source": [
    "**Question 9:** Write a Python program to concatenate two strings."
   ]
  },
  {
   "cell_type": "code",
   "execution_count": 5,
   "metadata": {},
   "outputs": [
    {
     "name": "stdout",
     "output_type": "stream",
     "text": [
      "abhi is good boy\n"
     ]
    }
   ],
   "source": [
    "# Your code here\n",
    "a=\"abhi is \"\n",
    "b=\"good boy\"\n",
    "c=a+b\n",
    "print(c)"
   ]
  },
  {
   "cell_type": "markdown",
   "metadata": {},
   "source": [
    "**Question 10:** Write a Python program to check if a variable is of a specific data type."
   ]
  },
  {
   "cell_type": "code",
   "execution_count": 6,
   "metadata": {},
   "outputs": [
    {
     "name": "stdout",
     "output_type": "stream",
     "text": [
      "Variable 'a' is of type str\n",
      "Variable 'b' is not of type int\n"
     ]
    }
   ],
   "source": [
    "# Example: Check if variable 'a' is of type str\n",
    "if isinstance(a, str):\n",
    "    print(\"Variable 'a' is of type str\")\n",
    "else:\n",
    "    print(\"Variable 'a' is not of type str\")\n",
    "\n",
    "# Example: Check if variable 'b' is of type int\n",
    "if isinstance(b, int):\n",
    "    print(\"Variable 'b' is of type int\")\n",
    "else:\n",
    "    print(\"Variable 'b' is not of type int\")"
   ]
  },
  {
   "cell_type": "markdown",
   "metadata": {},
   "source": [
    "## 3. Basic Operators (Arithmetic, Comparison, Logical)\n",
    "\n",
    "**Question 11:** Write a Python program to perform arithmetic operations: addition, subtraction, multiplication, and division."
   ]
  },
  {
   "cell_type": "code",
   "execution_count": 8,
   "metadata": {},
   "outputs": [
    {
     "name": "stdout",
     "output_type": "stream",
     "text": [
      "The sum of 10 and 5 is 15\n",
      "The difference of 10 and 5 is 5\n",
      "The product of 10 and 5 is 50\n",
      "the division of 10 and 5 is 2.0 \n"
     ]
    }
   ],
   "source": [
    "# Your code here\n",
    "a=int(input(\"Enter a number: \"))\n",
    "b=int(input(\"Enter another number: \"))\n",
    "print(f\"The sum of {a} and {b} is {a + b}\")\n",
    "print(f\"The difference of {a} and {b} is {a - b}\")\n",
    "print(f\"The product of {a} and {b} is {a * b}\")\n",
    "print(f\"the division of {a} and {b} is {a / b} \")"
   ]
  },
  {
   "cell_type": "markdown",
   "metadata": {},
   "source": [
    "**Question 12:** Write a Python program to demonstrate comparison operators: equal to, not equal to, greater than, less than."
   ]
  },
  {
   "cell_type": "code",
   "execution_count": 10,
   "metadata": {},
   "outputs": [
    {
     "name": "stdout",
     "output_type": "stream",
     "text": [
      "6 is less than 8\n",
      "6 is not equal to 8\n"
     ]
    }
   ],
   "source": [
    "# Your code here\n",
    "a = int(input(\"Enter a number: \"))\n",
    "b = int(input(\"Enter another number: \"))\n",
    "if a > b:\n",
    "    print(f\"{a} is greater than {b}\")\n",
    "if a < b:\n",
    "    print(f\"{a} is less than {b}\")\n",
    "if a == b:\n",
    "    print(f\"{a} is equal to {b}\")\n",
    "else:\n",
    "    print(f\"{a} is not equal to {b}\")\n",
    "    "
   ]
  },
  {
   "cell_type": "markdown",
   "metadata": {},
   "source": [
    "**Question 13:** Write a Python program to demonstrate logical operators: and, or, not."
   ]
  },
  {
   "cell_type": "code",
   "execution_count": 11,
   "metadata": {},
   "outputs": [
    {
     "name": "stdout",
     "output_type": "stream",
     "text": [
      "False\n",
      "True\n"
     ]
    }
   ],
   "source": [
    "# Your code here\n",
    "a=True\n",
    "b=False\n",
    "print(a and b)  # Logical AND\n",
    "print(a or b)   # Logical OR"
   ]
  },
  {
   "cell_type": "markdown",
   "metadata": {},
   "source": [
    "**Question 14:** Write a Python program to calculate the square of a number."
   ]
  },
  {
   "cell_type": "code",
   "execution_count": 12,
   "metadata": {},
   "outputs": [
    {
     "name": "stdout",
     "output_type": "stream",
     "text": [
      "square of the number is:  49\n"
     ]
    }
   ],
   "source": [
    "# Your code here\n",
    "a=int(input(\"Enter a number: \"))\n",
    "print(\"square of the number is: \", a**2)"
   ]
  },
  {
   "cell_type": "markdown",
   "metadata": {},
   "source": [
    "**Question 15:** Write a Python program to check if a number is even or odd."
   ]
  },
  {
   "cell_type": "code",
   "execution_count": 14,
   "metadata": {},
   "outputs": [
    {
     "name": "stdout",
     "output_type": "stream",
     "text": [
      "The number is odd\n"
     ]
    }
   ],
   "source": [
    "# Your code here\n",
    "a=int(input(\"Enter a number: \"))\n",
    "if a%2==0:\n",
    "    print(\"The number is even\")\n",
    "else:\n",
    "    print(\"The number is odd\")  "
   ]
  },
  {
   "cell_type": "markdown",
   "metadata": {},
   "source": [
    "**Question 16:** Write a Python program to find the sum of the first n natural numbers."
   ]
  },
  {
   "cell_type": "code",
   "execution_count": 16,
   "metadata": {},
   "outputs": [
    {
     "name": "stdout",
     "output_type": "stream",
     "text": [
      "The sum of first 10 natural numbers is: 55\n"
     ]
    }
   ],
   "source": [
    "# Your code here\n",
    "a=int(input(\"Enter the last number: \"))\n",
    "sum=0\n",
    "for i in range (1, a+1):\n",
    "    sum += i\n",
    "print(f\"The sum of first {a} natural numbers is: {sum}\")\n"
   ]
  },
  {
   "cell_type": "markdown",
   "metadata": {},
   "source": [
    "**Question 17:** Write a Python program to check if a year is a leap year."
   ]
  },
  {
   "cell_type": "code",
   "execution_count": 18,
   "metadata": {},
   "outputs": [
    {
     "name": "stdout",
     "output_type": "stream",
     "text": [
      "The year is not a leap year\n"
     ]
    }
   ],
   "source": [
    "# Your code here\n",
    "a=int(input(\"Enter the year : \"))\n",
    "if a%4==0:\n",
    "    print(\"The year is a leap year\")\n",
    "else:\n",
    "    print(\"The year is not a leap year\")  "
   ]
  },
  {
   "cell_type": "markdown",
   "metadata": {},
   "source": [
    "**Question 18:** Write a Python program to reverse a string."
   ]
  },
  {
   "cell_type": "code",
   "execution_count": 21,
   "metadata": {},
   "outputs": [
    {
     "name": "stdout",
     "output_type": "stream",
     "text": [
      "reversed string is:  doog si ihba\n"
     ]
    }
   ],
   "source": [
    "# Your code here\n",
    "a = input(\"Enter a string: \")\n",
    "b = a[::-1]\n",
    "print(\"reversed string is: \", b)"
   ]
  },
  {
   "cell_type": "markdown",
   "metadata": {},
   "source": [
    "**Question 19:** Write a Python program to check if a string is a palindrome."
   ]
  },
  {
   "cell_type": "code",
   "execution_count": 22,
   "metadata": {},
   "outputs": [
    {
     "name": "stdout",
     "output_type": "stream",
     "text": [
      "The string is a palindrome\n"
     ]
    }
   ],
   "source": [
    "# Your code here\n",
    "a=input(\"Enter a string: \")\n",
    "b=a[::-1]\n",
    "if a == b:\n",
    "    print(\"The string is a palindrome\")"
   ]
  },
  {
   "cell_type": "markdown",
   "metadata": {},
   "source": [
    "**Question 20:** Write a Python program to sort a list of numbers in ascending order."
   ]
  },
  {
   "cell_type": "code",
   "execution_count": 29,
   "metadata": {},
   "outputs": [
    {
     "name": "stdout",
     "output_type": "stream",
     "text": [
      "Sorted list is:  [1, 2, 5, 5, 6, 9]\n"
     ]
    }
   ],
   "source": [
    "# Your code here\n",
    "a = [5, 2, 9, 1, 5, 6]\n",
    "a.sort()\n",
    "\n",
    "print(\"Sorted list is: \", a)"
   ]
  }
 ],
 "metadata": {
  "kernelspec": {
   "display_name": "Python 3",
   "language": "python",
   "name": "python3"
  },
  "language_info": {
   "codemirror_mode": {
    "name": "ipython",
    "version": 3
   },
   "file_extension": ".py",
   "mimetype": "text/x-python",
   "name": "python",
   "nbconvert_exporter": "python",
   "pygments_lexer": "ipython3",
   "version": "3.12.0"
  }
 },
 "nbformat": 4,
 "nbformat_minor": 4
}
